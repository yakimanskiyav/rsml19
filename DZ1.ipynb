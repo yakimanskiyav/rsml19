{
 "cells": [
  {
   "cell_type": "markdown",
   "metadata": {},
   "source": [
    "# Домашнее задание по теме «Рекомендации на основе содержания»"
   ]
  },
  {
   "cell_type": "markdown",
   "metadata": {},
   "source": [
    "```\n",
    "- Использовать датасет MovieLens.\n",
    "- Построить рекомендации (регрессия, предсказываем оценку) на фичах:\n",
    "-   - TF-IDF на тегах и жанрах;\n",
    "-   - средние оценки (+ median, variance и т. д.) пользователя и фильма.\n",
    "- Оценить RMSE на тестовой выборке.\n",
    "```"
   ]
  },
  {
   "cell_type": "code",
   "execution_count": 58,
   "metadata": {},
   "outputs": [],
   "source": [
    "import pandas as pd\n",
    "import duckdb\n",
    "from  duckdb.typing import *\n",
    "from sklearn.feature_extraction.text import TfidfVectorizer\n",
    "from sklearn.neighbors import NearestNeighbors, KNeighborsRegressor, KNeighborsClassifier"
   ]
  },
  {
   "cell_type": "code",
   "execution_count": 59,
   "metadata": {},
   "outputs": [],
   "source": [
    "con = duckdb.connect()"
   ]
  },
  {
   "cell_type": "code",
   "execution_count": 60,
   "metadata": {},
   "outputs": [
    {
     "data": {
      "text/plain": [
       "<duckdb.duckdb.DuckDBPyConnection at 0x74d093f1f5b0>"
      ]
     },
     "execution_count": 60,
     "metadata": {},
     "output_type": "execute_result"
    }
   ],
   "source": [
    "def preprocess_text_for_tag(g: str):\n",
    "    return g.replace(' ', '_').replace('-', '').lower()\n",
    "\n",
    "con.create_function('preprocess_text_for_tag', preprocess_text_for_tag, [VARCHAR], VARCHAR)"
   ]
  },
  {
   "cell_type": "code",
   "execution_count": null,
   "metadata": {},
   "outputs": [],
   "source": [
    "con.sql(\"CREATE OR REPLACE TABLE movies  AS (SELECT * FROM './data/ml-latest-small/movies.csv');\")\n",
    "con.sql(\"CREATE OR REPLACE TABLE tags    AS (SELECT * FROM './data/ml-latest-small/tags.csv');\")\n",
    "con.sql(\"CREATE OR REPLACE TABLE ratings AS (SELECT * FROM './data/ml-latest-small/ratings.csv');\")\n",
    "con.sql(\"CREATE OR REPLACE TABLE links   AS (SELECT * FROM './data/ml-latest-small/links.csv');\")"
   ]
  },
  {
   "cell_type": "code",
   "execution_count": null,
   "metadata": {},
   "outputs": [
    {
     "name": "stderr",
     "output_type": "stream",
     "text": [
      "<>:1: SyntaxWarning: invalid escape sequence '\\d'\n",
      "<>:1: SyntaxWarning: invalid escape sequence '\\d'\n",
      "/tmp/ipykernel_238312/2030390583.py:1: SyntaxWarning: invalid escape sequence '\\d'\n",
      "  movies_df = con.sql(\"\"\"\n"
     ]
    }
   ],
   "source": [
    "movies_df = con.sql(\"\"\"\n",
    "    WITH \n",
    "    genres_df as (\n",
    "        SELECT movieId, string_agg(t.tags, ' ') tags \n",
    "        FROM (\n",
    "            SELECT \n",
    "                movieId, \n",
    "                unnest(string_split(preprocess_text_for_tag(genres), '|')) tags\n",
    "            FROM movies \n",
    "        ) t \n",
    "        GROUP BY ALL \n",
    "    ),\n",
    "    tags_df as (\n",
    "        SELECT movieId, string_agg(preprocess_text_for_tag(tag), ' ') tags FROM tags GROUP BY ALL\n",
    "    )\n",
    "    SELECT \n",
    "            movies.movieId\n",
    "        ,   regexp_extract(movies.title, '(\\d\\d\\d\\d)') as year\n",
    "        ,   movies.title\n",
    "        ,   coalesce(genres_df.tags, '') genres\n",
    "        ,   coalesce(tags_df.tags, '') tags\n",
    "        ,   coalesce(count(r.rating), 0)                ratings\n",
    "        ,   coalesce(min(r.rating), 0)                  min_rating\n",
    "        ,   coalesce(max(r.rating) , 0)                 max_rating\n",
    "        ,   coalesce(avg(r.rating), 0)                  avg_rating\n",
    "        ,   coalesce(quantile_disc(r.rating, 0.5), 0)   mean_rating\n",
    "        ,   coalesce(quantile_disc(r.rating, 0.9), 0)   rating_p90\n",
    "        ,   coalesce(quantile_disc(r.rating, 0.95), 0)  rating_p95\n",
    "        ,   coalesce(quantile_disc(r.rating, 0.99), 0)  rating_p99\n",
    "    FROM movies\n",
    "    LEFT JOIN genres_Df on movies.movieId = genres_df.movieId\n",
    "    LEFT JOIN tags_df on movies.movieId = tags_df.movieId\n",
    "    LEFT JOIN ratings r on r.movieId = movies.movieId\n",
    "    GROUP BY ALL\n",
    "\"\"\").df()"
   ]
  },
  {
   "cell_type": "code",
   "execution_count": 81,
   "metadata": {},
   "outputs": [],
   "source": [
    "tags_tfidf = TfidfVectorizer()\n",
    "tags_v = tags_tfidf.fit_transform(movies_df['tags'])\n",
    "tags_v_df = pd.DataFrame(tags_v.toarray(), columns=tags_tfidf.get_feature_names_out())\n",
    "movies_df = pd.concat([movies_df, tags_v_df], axis = 1)"
   ]
  },
  {
   "cell_type": "code",
   "execution_count": 82,
   "metadata": {},
   "outputs": [],
   "source": [
    "genres_tfidf = TfidfVectorizer()\n",
    "genres_v = genres_tfidf.fit_transform(movies_df['genres'])\n",
    "genres_v_df = pd.DataFrame(genres_v.toarray(), columns=genres_tfidf.get_feature_names_out())\n",
    "movies_df = pd.concat([movies_df, genres_v_df], axis = 1)"
   ]
  },
  {
   "cell_type": "code",
   "execution_count": 83,
   "metadata": {},
   "outputs": [],
   "source": [
    "df = con.sql(\"\"\"\n",
    "    SELECT\n",
    "        r.*,\n",
    "        movies_df.*\n",
    "    FROM ratings r\n",
    "    LEFT JOIN movies_df on movies_df.movieId = r.movieId   \n",
    "\"\"\").df()"
   ]
  },
  {
   "cell_type": "code",
   "execution_count": 84,
   "metadata": {},
   "outputs": [],
   "source": [
    "X = con.sql(\"\"\" SELECT df.* EXCLUDE (timestamp, movieId_1, title, genres, tags, rating) FROM df \"\"\").df()\n",
    "y = con.sql(\"\"\" SELECT rating FROM df \"\"\").df()"
   ]
  },
  {
   "cell_type": "code",
   "execution_count": 96,
   "metadata": {},
   "outputs": [],
   "source": [
    "from sklearn.linear_model    import LinearRegression\n",
    "from sklearn.model_selection import train_test_split\n",
    "from sklearn.metrics         import root_mean_squared_error\n",
    "\n",
    "X = con.sql(\"\"\" SELECT df.* EXCLUDE (timestamp, movieId_1, title, genres, tags, rating) FROM df \"\"\").df()\n",
    "y = con.sql(\"\"\" SELECT rating FROM df \"\"\").df()\n",
    "\n",
    "X_train, X_test, y_train, y_test = train_test_split( X, y, random_state=42, test_size=0.2 )"
   ]
  },
  {
   "cell_type": "code",
   "execution_count": null,
   "metadata": {},
   "outputs": [
    {
     "name": "stdout",
     "output_type": "stream",
     "text": [
      "0.8752672394695049\n",
      "0.8854531849220415\n"
     ]
    }
   ],
   "source": [
    "reg = LinearRegression()\n",
    "reg.fit( X_train, y_train )\n",
    "print( root_mean_squared_error( y_train, reg.predict(X_train) ) )\n",
    "print( root_mean_squared_error( y_test,  reg.predict(X_test) ) )"
   ]
  }
 ],
 "metadata": {
  "kernelspec": {
   "display_name": ".venv",
   "language": "python",
   "name": "python3"
  },
  "language_info": {
   "codemirror_mode": {
    "name": "ipython",
    "version": 3
   },
   "file_extension": ".py",
   "mimetype": "text/x-python",
   "name": "python",
   "nbconvert_exporter": "python",
   "pygments_lexer": "ipython3",
   "version": "3.12.7"
  }
 },
 "nbformat": 4,
 "nbformat_minor": 2
}
